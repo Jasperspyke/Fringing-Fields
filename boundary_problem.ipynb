{
 "cells": [
  {
   "cell_type": "code",
   "id": "initial_id",
   "metadata": {
    "collapsed": true,
    "ExecuteTime": {
     "end_time": "2025-03-08T15:55:47.087171Z",
     "start_time": "2025-03-08T15:55:47.084037Z"
    }
   },
   "source": [
    "import numpy as np\n",
    "import matplotlib.pyplot as plt\n",
    "import scipy as sp"
   ],
   "outputs": [],
   "execution_count": 168
  },
  {
   "metadata": {
    "ExecuteTime": {
     "end_time": "2025-03-08T15:55:47.118556Z",
     "start_time": "2025-03-08T15:55:47.113512Z"
    }
   },
   "cell_type": "code",
   "source": [
    "n = 100     #formerly grid_size\n",
    "grid = np.zeros([n, n], dtype=int)\n",
    "\n",
    "separation_factor = 2/3     # horizontal separation of the plates\n",
    "vertical_aspect = 0.8   # amount of vertical grid_size taken up by plate\n",
    "\n",
    "y1 = int(0.5*n*(1 - vertical_aspect))\n",
    "y2 = int(0.5*n*(1 + vertical_aspect))\n",
    "assert 0 <= separation_factor <= 1\n",
    "assert 0 <= vertical_aspect <= 1\n",
    "offset = int(separation_factor * (n//2))\n",
    "grid[y1:y2, offset] = 1\n",
    "grid[y1:y2, n-offset-1] = -1"
   ],
   "id": "3737d3e5d9d8c708",
   "outputs": [],
   "execution_count": 169
  },
  {
   "metadata": {
    "ExecuteTime": {
     "end_time": "2025-03-08T16:00:28.029270Z",
     "start_time": "2025-03-08T15:55:47.123563Z"
    }
   },
   "cell_type": "code",
   "source": [
    "adjacency = np.zeros([n*n, n*n], dtype=int)\n",
    "for i in range(n*n):\n",
    "    x1 = i // n\n",
    "    x2 = i % n\n",
    "    for j in range(n*n):\n",
    "        y1 = j // n\n",
    "        y2 = j % n\n",
    "\n",
    "        if np.abs(x1-y1) + np.abs(x2 - y2) == 1:\n",
    "            adjacency[i, j] = 1"
   ],
   "id": "ddd7cb4e768fd2bb",
   "outputs": [],
   "execution_count": 170
  },
  {
   "metadata": {
    "ExecuteTime": {
     "end_time": "2025-03-08T16:00:28.147337Z",
     "start_time": "2025-03-08T16:00:28.059451Z"
    }
   },
   "cell_type": "code",
   "source": [
    "degree = np.zeros_like(adjacency)\n",
    "\n",
    "\n",
    "for i in range(n*n):\n",
    "\n",
    "    x1 = i // n\n",
    "    x2 = i % n\n",
    "    deg = 4 - (x1 % (n-1) == 0) - (x2 % (n-1) == 0)\n",
    "    degree[i, i] = deg"
   ],
   "id": "216dda1c5f5c2560",
   "outputs": [],
   "execution_count": 171
  },
  {
   "metadata": {
    "ExecuteTime": {
     "end_time": "2025-03-08T17:09:29.251898Z",
     "start_time": "2025-03-08T17:09:28.904045Z"
    }
   },
   "cell_type": "code",
   "source": [
    "laplacian = (degree - adjacency)\n",
    "L1 = (laplacian @ grid.flatten()).reshape(100, 100)"
   ],
   "id": "551dddd61e426123",
   "outputs": [],
   "execution_count": 274
  },
  {
   "metadata": {
    "ExecuteTime": {
     "end_time": "2025-03-08T17:09:29.774416Z",
     "start_time": "2025-03-08T17:09:29.769173Z"
    }
   },
   "cell_type": "code",
   "source": "np.nonzero(laplacian[2, :])",
   "id": "207a7eff4a2facf6",
   "outputs": [
    {
     "data": {
      "text/plain": [
       "(array([  1,   2,   3, 102], dtype=int64),)"
      ]
     },
     "execution_count": 275,
     "metadata": {},
     "output_type": "execute_result"
    }
   ],
   "execution_count": 275
  },
  {
   "metadata": {
    "ExecuteTime": {
     "end_time": "2025-03-08T17:09:30.381800Z",
     "start_time": "2025-03-08T17:09:30.293262Z"
    }
   },
   "cell_type": "code",
   "source": [
    "plt.contour(np.abs(L1))\n",
    "plt.show()"
   ],
   "id": "1490af5e8f903852",
   "outputs": [
    {
     "data": {
      "text/plain": [
       "<Figure size 640x480 with 1 Axes>"
      ],
      "image/png": "[encoded data removed]"
     },
     "metadata": {},
     "output_type": "display_data"
    }
   ],
   "execution_count": 276
  },
  {
   "metadata": {
    "ExecuteTime": {
     "end_time": "2025-03-08T17:09:32.336306Z",
     "start_time": "2025-03-08T17:09:32.330899Z"
    }
   },
   "cell_type": "code",
   "source": "L1",
   "id": "ed49083706289588",
   "outputs": [
    {
     "data": {
      "text/plain": [
       "array([[0, 0, 0, ..., 0, 0, 0],\n",
       "       [0, 0, 0, ..., 0, 0, 0],\n",
       "       [0, 0, 0, ..., 0, 0, 0],\n",
       "       ...,\n",
       "       [0, 0, 0, ..., 0, 0, 0],\n",
       "       [0, 0, 0, ..., 0, 0, 0],\n",
       "       [0, 0, 0, ..., 0, 0, 0]])"
      ]
     },
     "execution_count": 277,
     "metadata": {},
     "output_type": "execute_result"
    }
   ],
   "execution_count": 277
  },
  {
   "metadata": {
    "ExecuteTime": {
     "end_time": "2025-03-08T17:22:07.825413Z",
     "start_time": "2025-03-08T17:22:07.819588Z"
    }
   },
   "cell_type": "code",
   "source": "laplacian",
   "id": "4934dcf0590fa182",
   "outputs": [
    {
     "data": {
      "text/plain": [
       "array([[ 2, -1,  0, ...,  0,  0,  0],\n",
       "       [-1,  3, -1, ...,  0,  0,  0],\n",
       "       [ 0, -1,  3, ...,  0,  0,  0],\n",
       "       ...,\n",
       "       [ 0,  0,  0, ...,  3, -1,  0],\n",
       "       [ 0,  0,  0, ..., -1,  3, -1],\n",
       "       [ 0,  0,  0, ...,  0, -1,  2]])"
      ]
     },
     "execution_count": 278,
     "metadata": {},
     "output_type": "execute_result"
    }
   ],
   "execution_count": 278
  },
  {
   "metadata": {},
   "cell_type": "code",
   "outputs": [],
   "execution_count": null,
   "source": "",
   "id": "88e4749ca31e889c"
  }
 ],
 "metadata": {
  "kernelspec": {
   "display_name": "Python 3",
   "language": "python",
   "name": "python3"
  },
  "language_info": {
   "codemirror_mode": {
    "name": "ipython",
    "version": 2
   },
   "file_extension": ".py",
   "mimetype": "text/x-python",
   "name": "python",
   "nbconvert_exporter": "python",
   "pygments_lexer": "ipython2",
   "version": "2.7.6"
  }
 },
 "nbformat": 4,
 "nbformat_minor": 5
}
