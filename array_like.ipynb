{
 "cells": [
  {
   "cell_type": "code",
   "id": "initial_id",
   "metadata": {
    "collapsed": true
   },
   "source": [
    "import numpy as np\n",
    "import matplotlib.pyplot as plt\n",
    "import scipy.sparse as sps\n",
    "from matplotlib.animation import FuncAnimation"
   ],
   "outputs": [],
   "execution_count": null
  },
  {
   "metadata": {},
   "cell_type": "code",
   "source": [
    "n = 100     #formerly grid_size\n",
    "grid = np.zeros([n, n], dtype=int)\n",
    "\n",
    "separation_factor = 2/3     # horizontal separation of the plates\n",
    "vertical_aspect = 0.8   # amount of vertical grid_size taken up by plate\n",
    "\n",
    "y1 = int(0.5*n*(1 - vertical_aspect))\n",
    "y2 = int(0.5*n*(1 + vertical_aspect))\n",
    "assert 0 <= separation_factor <= 1\n",
    "assert 0 <= vertical_aspect <= 1\n",
    "offset = int(separation_factor * (n//2))\n",
    "grid[y1:y2, offset] = 1\n",
    "grid[y1:y2, n-offset-1] = -1\n",
    "plt.imshow(grid.T, cmap='viridis')\n",
    "plt.show()"
   ],
   "id": "3737d3e5d9d8c708",
   "outputs": [],
   "execution_count": null
  },
  {
   "metadata": {},
   "cell_type": "code",
   "source": [
    "diags = np.array([np.ones(n*n) * -4, np.ones(n*n), np.ones(n*n), np.ones(n*n), np.ones(n*n)])\n",
    "laplacian = sps.spdiags(diags, [0, 1, -1, n, -n], n*n, n*n)\n",
    "b = sps.csr_matrix(grid.flatten().astype(float)).reshape(-1, 1) # FAST sparsemat conversion\n",
    "A = laplacian.copy().tocsc()\n",
    "x = sps.linalg.spsolve(A, b) # solving the laplacian"
   ],
   "id": "97688ef68e281ec8",
   "outputs": [],
   "execution_count": null
  },
  {
   "metadata": {},
   "cell_type": "code",
   "source": [
    "potential = x.reshape(100, 100)\n",
    "levels_pos = np.array([0.1, 0.2, 0.4, 0.6, 0.8, 1]) # determine levels to be shown for each \"eye\" on the contour plot\n",
    "levels_neg = np.flip(levels_pos) * -1\n",
    "levels = np.hstack([levels_neg, levels_pos]) * potential.max()"
   ],
   "id": "677ebcfcf6734b0f",
   "outputs": [],
   "execution_count": null
  },
  {
   "metadata": {},
   "cell_type": "code",
   "source": [
    "plt.contour(potential.T, cmap='viridis', levels=levels)\n",
    "plt.title('Potential Plot')\n",
    "plt.xlabel('X')\n",
    "plt.ylabel('Y')\n",
    "plt.show()"
   ],
   "id": "5300c4390d3bec4f",
   "outputs": [],
   "execution_count": null
  },
  {
   "metadata": {},
   "cell_type": "code",
   "source": [
    "def get_col_gradient(arr):\n",
    "    assert arr.ndim == 2\n",
    "    n = len(arr.T)\n",
    "    grad = (np.pad(arr, ((0, 0), (0, 2))) - np.pad(arr, ((0, 0), (2, 0))))/2\n",
    "    grad = grad[:, 1:n+1]\n",
    "    fw_diff = arr[:, 1] - arr[:, 0]\n",
    "    bw_diff = arr[:, n-1] - arr[:, n-2]\n",
    "    grad[:, 0] = fw_diff\n",
    "    grad[:, n-1] = bw_diff\n",
    "    return grad\n",
    "\n",
    "def get_row_gradient(arr):\n",
    "    assert arr.ndim == 2\n",
    "    n = len(arr)  # Now working with rows instead of columns\n",
    "    grad = (np.pad(arr, ((0, 2), (0, 0))) - np.pad(arr, ((2, 0), (0, 0))))/2\n",
    "    grad = grad[1:n+1, :]\n",
    "    fw_diff = arr[1, :] - arr[0, :]\n",
    "    bw_diff = arr[n-1, :] - arr[n-2, :]\n",
    "    grad[0, :] = fw_diff\n",
    "    grad[n-1, :] = bw_diff\n",
    "    return grad\n",
    "\n",
    "def gradient(arr):\n",
    "    return (get_row_gradient(arr), get_col_gradient(arr))\n",
    "\n",
    "field = gradient(potential)"
   ],
   "id": "a09f1e6adadfb7bf",
   "outputs": [],
   "execution_count": null
  },
  {
   "metadata": {},
   "cell_type": "code",
   "source": [
    "class Particle:\n",
    "    def __init__(self):\n",
    "        self.x = np.random.normal(n/2, 10)\n",
    "        self.y = np.random.normal(n/2, 10)\n",
    "        self.Ux = field[0][int(self.x), int(self.y)]\n",
    "        self.Uy = field[1][int(self.x), int(self.y)]\n",
    "\n",
    "    def move(self):\n",
    "        self.x += self.Ux\n",
    "        self.y += self.Uy\n",
    "\n",
    "    def plot(self, axesObject):\n",
    "        axesObject.plot(self.x, self.y, color='yellow', marker='o')\n",
    "\n",
    "    def quiver(self, axesObject):\n",
    "        axesObject.quiver(self.x, self.y, self.Ux, self.Uy, color='yellow')\n",
    "\n",
    "\n",
    "electron = Particle()\n"
   ],
   "id": "12964a62e4e4153c",
   "outputs": [],
   "execution_count": null
  },
  {
   "metadata": {},
   "cell_type": "code",
   "source": [
    "fig, ax = plt.subplots()\n",
    "\n",
    "ax.contour(potential.T, cmap='viridis', levels=levels) # static contour plot\n",
    "ax.set_title('Particle Plot')\n",
    "ax.set_xlabel('X')\n",
    "ax.set_ylabel('Y')\n",
    "\n",
    "particle_group = [Particle() for i in range(12)]\n",
    "def update(axesObject, particle_group):\n",
    "    for particle in particle_group:\n",
    "        particle.move()\n",
    "    return particle_group\n",
    "\n",
    "\n"
   ],
   "id": "d2c421f685a5a38b",
   "outputs": [],
   "execution_count": null
  },
  {
   "metadata": {},
   "cell_type": "code",
   "source": "",
   "id": "db04949338c4440d",
   "outputs": [],
   "execution_count": null
  }
 ],
 "metadata": {
  "kernelspec": {
   "display_name": "Python 3",
   "language": "python",
   "name": "python3"
  },
  "language_info": {
   "codemirror_mode": {
    "name": "ipython",
    "version": 2
   },
   "file_extension": ".py",
   "mimetype": "text/x-python",
   "name": "python",
   "nbconvert_exporter": "python",
   "pygments_lexer": "ipython2",
   "version": "2.7.6"
  }
 },
 "nbformat": 4,
 "nbformat_minor": 5
}
